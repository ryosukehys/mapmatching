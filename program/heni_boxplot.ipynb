{
 "cells": [
  {
   "cell_type": "code",
   "execution_count": 62,
   "metadata": {
    "collapsed": true,
    "pycharm": {
     "name": "#%%\n"
    }
   },
   "outputs": [],
   "source": [
    "import matplotlib.pyplot as plt\n",
    "import seaborn as sns\n",
    "import pandas as pd\n",
    "import statistics as st\n",
    "import japanize_matplotlib\n",
    "\n",
    "plt.style.use(\"ggplot\")     # グラフのデザインを指定する\n",
    "sns.set_palette('Set2')     # グラフの色を指定する"
   ]
  },
  {
   "cell_type": "code",
   "execution_count": 85,
   "outputs": [],
   "source": [
    "def return_mean(df):\n",
    "    c = sorted(list(df[\"mean\"]))[1:-1]\n",
    "    return st.mean(c)\n",
    "\n",
    "def maeshori(df1, df2, df3, df4, mean1, mean2, kukan1, kukan2,df5=False, df6=False, mean3=False, kukan3=False):\n",
    "    df1 = sorted(list(df1[\"mean\"]))[1:-1]\n",
    "    df2 = sorted(list(df2[\"mean\"]))[1:-1]\n",
    "\n",
    "    df3 = sorted(list(df3[\"mean\"]))[1:-1]\n",
    "    df4 = sorted(list(df4[\"mean\"]))[1:-1]\n",
    "\n",
    "    df1 = [i - mean1 for i in df1]\n",
    "    df2 = [i - mean1 for i in df2]\n",
    "    df3 = [i - mean2 for i in df3]\n",
    "    df4 = [i - mean2 for i in df4]\n",
    "\n",
    "    df5 = sorted(list(df5[\"mean\"]))[1:-1]\n",
    "    df6 = sorted(list(df6[\"mean\"]))[1:-1]\n",
    "    df5 = [i - mean3 for i in df5]\n",
    "    df6 = [i - mean3 for i in df6]\n",
    "    df1, df2, df3, df4, df5, df6 = pd.DataFrame(df1), pd.DataFrame(df2), pd.DataFrame(df3), pd.DataFrame(df4), pd.DataFrame(df5), pd.DataFrame(df6)\n",
    "    df1[\"A\"],  df2[\"A\"], df3[\"A\"], df4[\"A\"],df5[\"A\"], df6[\"A\"] = kukan1, kukan1, kukan2, kukan2, kukan3, kukan3\n",
    "    df1[\"月\"],  df2[\"月\"], df3[\"月\"], df4[\"月\"], df5[\"月\"], df6[\"月\"] = \"12月\", \"1月\", \"12月\", \"1月\", \"12月\", \"1月\"\n",
    "    return pd.concat([df1, df2, df3, df4, df5, df6])\n",
    "\n",
    "\"\"\"   if kukan3 == False:\n",
    "        df1, df2, df3, df4 = pd.DataFrame(df1), pd.DataFrame(df2), pd.DataFrame(df3), pd.DataFrame(df4)\n",
    "        df1[\"A\"],  df2[\"A\"], df3[\"A\"], df4[\"A\"] = kukan1, kukan1, kukan2, kukan2\n",
    "        df1[\"月\"],  df2[\"月\"], df3[\"月\"], df4[\"月\"] = \"12月\", \"1月\", \"12月\", \"1月\"\n",
    "        return pd.concat([df1, df2, df3, df4])\"\"\"\n",
    "\n",
    "def box_plot(df, filename):\n",
    "    sns.boxplot(x=\"A\", y=0, data=df, hue=\"月\")\n",
    "    #sns.(x=\"A\", y=0,color=\"r\", data=df, hue=\"月\")\n",
    "    plt.xlabel(\"区間\", fontsize=15)\n",
    "    plt.ylabel(\"走行位置変位\", fontsize=15)\n",
    "    plt.title(\"区間ごとの走行位置変位\", fontsize=18)\n",
    "    plt.subplots_adjust(left=0.13, right=0.98, bottom=0.13, top=0.92)\n",
    "    plt.axhline(y=0, color='black', linestyle='--', linewidth=1, label='Threshold Value')\n",
    "    plt.savefig(\"C://Users/hysir/Desktop/研究室/図作成/\"+str(filename)+\".svg\")\n"
   ],
   "metadata": {
    "collapsed": false,
    "pycharm": {
     "name": "#%%\n"
    }
   }
  },
  {
   "cell_type": "code",
   "execution_count": 86,
   "outputs": [],
   "source": [
    "df_tyo = pd.read_csv(\"C:\\\\Users\\hysir\\Desktop\\研究室\\matching\\distance_data_all\\\\6641252200_bus_B_Wakkanai\\statistics_202109_6641252200_bus_B.csv\")\n",
    "mean1 = return_mean(df_tyo)\n",
    "df_09_curve = pd.read_csv(\"C://Users/hysir/Desktop/研究室/matching/distance_data/6741366100_bus_B/statistics_202109_6741366100_bus_B.csv\")\n",
    "mean2 = return_mean(df_09_curve)\n",
    "df_09 = pd.read_csv(\"C://Users/hysir/Desktop/研究室/matching/distance_data/6441438000_bus_B/statistics_202109_6441438000_bus_B.csv\")\n",
    "mean3 = return_mean(df_09)\n",
    "\n",
    "df1 = pd.read_csv(\"C:\\\\Users\\hysir\\Desktop\\研究室\\matching\\distance_data_all\\\\6641252200_bus_B_Wakkanai\\statistics_202112_6641252200_bus_B.csv\")\n",
    "df2 = pd.read_csv(\"C:\\\\Users\\hysir\\Desktop\\研究室\\matching\\distance_data_all\\\\6641252200_bus_B_Wakkanai\\statistics_202201_6641252200_bus_B.csv\")\n",
    "df_12_curve = pd.read_csv(\"C://Users/hysir/Desktop/研究室/matching/distance_data/6741366100_bus_B/statistics_202112_6741366100_bus_B.csv\")\n",
    "df_01_curve = pd.read_csv(\"C://Users/hysir/Desktop/研究室/matching/distance_data/6741366100_bus_B/statistics_202201_6741366100_bus_B.csv\")\n",
    "df_12 = pd.read_csv(\"C://Users/hysir/Desktop/研究室/matching/distance_data/6441438000_bus_B/statistics_202112_6441438000_bus_B.csv\")\n",
    "df_01 = pd.read_csv(\"C://Users/hysir/Desktop/研究室/matching/distance_data/6441438000_bus_B/statistics_202201_6441438000_bus_B.csv\")"
   ],
   "metadata": {
    "collapsed": false,
    "pycharm": {
     "name": "#%%\n"
    }
   }
  },
  {
   "cell_type": "code",
   "execution_count": 87,
   "outputs": [
    {
     "name": "stdout",
     "output_type": "stream",
     "text": [
      "          0    A    月\n",
      "0 -1.228399   直線  12月\n",
      "1 -0.931521   直線  12月\n",
      "2 -0.709823   直線  12月\n",
      "3  0.538880   直線  12月\n",
      "4  0.597465   直線  12月\n",
      "0 -1.344768   直線   1月\n",
      "1 -1.322753   直線   1月\n",
      "2 -0.922680   直線   1月\n",
      "3 -0.350447   直線   1月\n",
      "4  0.717984   直線   1月\n",
      "0 -0.485437  カーブ  12月\n",
      "1  0.116016  カーブ  12月\n",
      "2  0.607005  カーブ  12月\n",
      "3  0.710999  カーブ  12月\n",
      "4  1.539631  カーブ  12月\n",
      "0 -0.969176  カーブ   1月\n",
      "1 -0.632123  カーブ   1月\n",
      "2  0.041292  カーブ   1月\n",
      "3  0.160022  カーブ   1月\n",
      "4  0.481360  カーブ   1月\n",
      "0 -3.131256  市街地  12月\n",
      "1 -1.389771  市街地  12月\n",
      "2 -1.385642  市街地  12月\n",
      "3 -1.252201  市街地  12月\n",
      "4 -0.978618  市街地  12月\n",
      "5 -0.582604  市街地  12月\n",
      "6 -0.317696  市街地  12月\n",
      "0 -4.372833  市街地   1月\n",
      "1 -3.876431  市街地   1月\n",
      "2 -3.422917  市街地   1月\n",
      "3 -3.206473  市街地   1月\n",
      "4 -3.126339  市街地   1月\n",
      "5 -1.736888  市街地   1月\n"
     ]
    }
   ],
   "source": [
    "df = maeshori(df1, df2, df_12_curve, df_01_curve,mean1, mean2, \"直線\", \"カーブ\", df5=df_12, df6=df_01, mean3=mean3, kukan3=\"市街地\")\n",
    "print(df)\n"
   ],
   "metadata": {
    "collapsed": false,
    "pycharm": {
     "name": "#%%\n"
    }
   }
  },
  {
   "cell_type": "code",
   "execution_count": 88,
   "outputs": [
    {
     "data": {
      "text/plain": "<Figure size 432x288 with 1 Axes>",
      "image/png": "[encoded data removed]"
     },
     "metadata": {},
     "output_type": "display_data"
    }
   ],
   "source": [
    "box_plot(df, \"tyoku_curve\")"
   ],
   "metadata": {
    "collapsed": false,
    "pycharm": {
     "name": "#%%\n"
    }
   }
  },
  {
   "cell_type": "code",
   "execution_count": null,
   "outputs": [],
   "source": [],
   "metadata": {
    "collapsed": false,
    "pycharm": {
     "name": "#%%\n"
    }
   }
  }
 ],
 "metadata": {
  "kernelspec": {
   "display_name": "Python 3",
   "language": "python",
   "name": "python3"
  },
  "language_info": {
   "codemirror_mode": {
    "name": "ipython",
    "version": 2
   },
   "file_extension": ".py",
   "mimetype": "text/x-python",
   "name": "python",
   "nbconvert_exporter": "python",
   "pygments_lexer": "ipython2",
   "version": "2.7.6"
  }
 },
 "nbformat": 4,
 "nbformat_minor": 0
}