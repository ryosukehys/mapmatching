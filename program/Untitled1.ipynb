{
 "cells": [
  {
   "cell_type": "code",
   "execution_count": 9,
   "id": "c733f631",
   "metadata": {
    "scrolled": true,
    "pycharm": {
     "name": "#%%\n"
    }
   },
   "outputs": [],
   "source": [
    "import  pandas as pd\n",
    "import plotly.express as px\n",
    "\n",
    "df = pd.read_csv(\"C:\\\\Users\\hysir\\Desktop\\研究室\\matching\\matched_data\\\\202201_bus_B_Wakkanai\\\\20220105_bus_B_.csv\")\n",
    "\n",
    "fig = px.line_mapbox(df, lat=\"latitude\", lon=\"longitude\", zoom=3)\n",
    "fig.update_layout(mapbox_style=\"open-street-map\", mapbox_zoom=4, mapbox_center_lat = 41,\n",
    "    margin={\"r\":0,\"t\":0,\"l\":0,\"b\":0})\n",
    "fig.write_html(\"C:/Users/hysir/Desktop/研究室/発表資料/支部論/map.html\")"
   ]
  },
  {
   "cell_type": "code",
   "execution_count": null,
   "id": "983d311c",
   "metadata": {
    "pycharm": {
     "name": "#%%\n"
    }
   },
   "outputs": [],
   "source": []
  }
 ],
 "metadata": {
  "kernelspec": {
   "display_name": "Python 3 (ipykernel)",
   "language": "python",
   "name": "python3"
  },
  "language_info": {
   "codemirror_mode": {
    "name": "ipython",
    "version": 3
   },
   "file_extension": ".py",
   "mimetype": "text/x-python",
   "name": "python",
   "nbconvert_exporter": "python",
   "pygments_lexer": "ipython3",
   "version": "3.9.12"
  }
 },
 "nbformat": 4,
 "nbformat_minor": 5
}